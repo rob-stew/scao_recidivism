{
 "cells": [
  {
   "cell_type": "code",
   "execution_count": 1,
   "metadata": {},
   "outputs": [
    {
     "name": "stderr",
     "output_type": "stream",
     "text": [
      "Warning message:\n",
      "“package ‘dplyr’ was built under R version 3.6.3”\n",
      "Attaching package: ‘dplyr’\n",
      "\n",
      "The following objects are masked from ‘package:stats’:\n",
      "\n",
      "    filter, lag\n",
      "\n",
      "The following objects are masked from ‘package:base’:\n",
      "\n",
      "    intersect, setdiff, setequal, union\n",
      "\n",
      "Warning message:\n",
      "“package ‘tidyr’ was built under R version 3.6.3”Registered S3 methods overwritten by 'ggplot2':\n",
      "  method         from \n",
      "  [.quosures     rlang\n",
      "  c.quosures     rlang\n",
      "  print.quosures rlang\n",
      "\n",
      "Attaching package: ‘lubridate’\n",
      "\n",
      "The following object is masked from ‘package:base’:\n",
      "\n",
      "    date\n",
      "\n",
      "Warning message:\n",
      "“package ‘survminer’ was built under R version 3.6.3”Loading required package: ggpubr\n",
      "Warning message:\n",
      "“package ‘ggpubr’ was built under R version 3.6.3”"
     ]
    }
   ],
   "source": [
    "library(dplyr)\n",
    "library(readr)\n",
    "library(tidyr)\n",
    "library(stringr)\n",
    "library(ggplot2)\n",
    "library(lubridate)\n",
    "library(survival)\n",
    "library(survminer)"
   ]
  },
  {
   "cell_type": "code",
   "execution_count": null,
   "metadata": {},
   "outputs": [],
   "source": [
    "##############################\n",
    "# Creation of Financial Series\n",
    "##############################\n",
    "monsanc <- read_csv(\"monsanc.csv\") %>%\n",
    "  dplyr::select(person_id, case_filed_date, sentence_date,filed_county,\n",
    "         case_mkey, pubdef, charge_offense, charge_degree, \n",
    "         priors, prob_days, conf_days, race, gender,\n",
    "         name_full, birth_year, birth_date, trial_flag, adj) %>%\n",
    "  dplyr::mutate(sentence_date = as.character(format(sentence_date, \"%Y-%m\" )))"
   ]
  },
  {
   "cell_type": "code",
   "execution_count": null,
   "metadata": {},
   "outputs": [],
   "source": [
    "#MNCIS Financial - originally at transaction level\n",
    "mncis <- read_delim(\"MNCIS_Financial.txt\", delim = \"|\", na = \"NULL\",\n",
    "                    col_types = list(col_double(), col_double(), \n",
    "                                     col_double(), col_character(), \n",
    "                                     col_character(), col_double(), \n",
    "                                     col_datetime(), col_character(),\n",
    "                                     col_character(), col_double(),\n",
    "                                     col_double(), col_double(),\n",
    "                                     col_double(), col_double(),\n",
    "                                     col_double(), col_double())) %>%\n",
    "  slice(-dim(.)[1])\n",
    "str(mncis)"
   ]
  },
  {
   "cell_type": "code",
   "execution_count": null,
   "metadata": {},
   "outputs": [],
   "source": [
    "#Merging reduced category variable\n",
    "mncis.bridge <- read_csv(file = \"mncis_fees.csv\")\n",
    "mncis$Fee_Type_Category_Desc <- str_trim(mncis$Fee_Type_Category_Desc, side = \"both\") #trimming wtspace\n",
    "mncis$Fee_Type_Desc <- str_trim(mncis$Fee_Type_Desc, side = \"both\") #trimming wtspace\n",
    "\n",
    "mncis <- mncis %>% left_join(mncis.bridge, \n",
    "                             by = c(\"Fee_Type_Desc\"=\"fee_type_desc\", \"Fee_Type_Category_Desc\"=\"fee_type_category_desc\"))\n",
    "\n",
    "#mncis time series\n",
    "#mncis financial transaction date for ordered IS the sentence date\n",
    "mncis.time <- mncis %>%\n",
    "  select(Case_Mkey, new_cat, \n",
    "         Financial_Transaction_Detail_Charge_Amount, \n",
    "         Financial_Transaction_Detail_Payment_Amount,\n",
    "         Financial_Transaction_Detail_Credit_Amount,\n",
    "         Financial_Transaction_Date) %>%\n",
    "  rename(mncis_ordered = Financial_Transaction_Detail_Charge_Amount,\n",
    "         mncis_collected = Financial_Transaction_Detail_Payment_Amount,\n",
    "         mncis_credit = Financial_Transaction_Detail_Credit_Amount,\n",
    "         type = new_cat) %>%\n",
    "  mutate(date = format(as.Date(Financial_Transaction_Date), \"%Y-%m\")) %>% \n",
    "  filter(type!=\"BAIL\" & type!=\"UNK\" & type!=\"OTHER\") %>%\n",
    "  mutate(mncis_ordered_adj = mncis_ordered-mncis_credit) %>%\n",
    "  mutate(mncis_ordered_adj = ifelse(mncis_ordered_adj < 0, 0, mncis_ordered_adj),\n",
    "         mncis_collected = ifelse(mncis_collected < 0, 0, mncis_collected)) %>%\n",
    "  select(-type, -mncis_ordered) %>%\n",
    "  group_by(Case_Mkey, date) %>%\n",
    "  summarise(mncis_ordered = sum(mncis_ordered_adj, na.rm = T),\n",
    "            mncis_collected = sum(mncis_collected, na.rm=T)) %>%\n",
    "  arrange(Case_Mkey, date)\n",
    "\n",
    "rm(mncis.bridge, mncis)\n",
    "\n",
    "\n",
    "#vibes - made to match mncis.time\n",
    "#VIBES financial \n",
    "vibes <- read_delim(\"VIBES_Financial.txt\", delim = \"|\", na = \"NULL\") %>% \n",
    "  slice(-dim(.)[1]) \n",
    "\n",
    "#vibes time series\n",
    "#vibes does not have sentence date, must merge in from sentence\n",
    "vibes.clean <- vibes %>% \n",
    "  select(Incident_ID,  \n",
    "         Total_Assessments, \n",
    "         Total_Payments,\n",
    "         Payment_Date) %>%\n",
    "  mutate(vibes_ordered = ifelse(Total_Assessments < 0, 0, Total_Assessments),\n",
    "         vibes_collected = ifelse(Total_Payments < 0, 0, Total_Payments),\n",
    "         payment_date = format(Payment_Date, \"%Y-%m-%d\")) %>%\n",
    "  select(-Payment_Date, -Total_Assessments, -Total_Payments) %>%\n",
    "  mutate(vibes_ordered = ifelse(is.na(vibes_ordered), 0, vibes_ordered),\n",
    "         vibes_collected = ifelse(is.na(vibes_collected), 0, vibes_collected))\n",
    "\n",
    "#merge vibes bridge to vibes, then select unique identifiers merge\n",
    "vibes.bridge <- read_delim(\"VIBES_Bridge.txt\",  delim = \"|\", na = \"NULL\") %>%\n",
    "  slice(-dim(.)[1]) \n",
    "\n",
    "vibes.merge <- vibes %>% left_join(vibes.bridge, by = c(\"Incident_ID\" = \"INCIDENT_ID\")) %>%\n",
    "  mutate(county = ifelse(CNTY_CODE==62, \"Ramsey County\", \"Hennepin County\")) %>%\n",
    "  select(Case_Mkey, county, Incident_ID) %>% distinct(Incident_ID, .keep_all = T)\n",
    "\n",
    "vibes.clean <- vibes.clean %>% left_join(vibes.merge, by = \"Incident_ID\")\n",
    "\n",
    "#merge in sentence date from person.case object (have to merge by Case_Mkey and county)\n",
    "vibes.clean <- vibes.clean %>% \n",
    "  left_join(monsanc, by = c(\"county\"=\"filed_county\", \"Case_Mkey\"=\"case_mkey\")) %>%\n",
    "  select(Incident_ID, Case_Mkey, vibes_ordered, vibes_collected, sentence_date, payment_date, county) \n",
    "\n",
    "#the following sets date to the respective event date, then appends and summarizes over case and date\n",
    "vibes.ordered <- vibes.clean %>% \n",
    "  select(Incident_ID, vibes_ordered, sentence_date) %>%\n",
    "  rename(date = sentence_date)\n",
    "\n",
    "vibes.payed <- vibes.clean %>% select(Incident_ID, vibes_collected, payment_date) %>%\n",
    "  mutate(date = format(as.Date(payment_date), \"%Y-%m\")) %>% \n",
    "  select(-payment_date)\n",
    "\n",
    "vibes.time <- vibes.ordered %>% bind_rows(vibes.payed) %>%\n",
    "  group_by(Incident_ID, date) %>%\n",
    "  summarize(vibes_ordered = sum(vibes_ordered, na.rm=T),\n",
    "            vibes_collected = sum(vibes_collected, na.rm=T)) %>%\n",
    "  arrange(Incident_ID, date) %>%\n",
    "  filter(!is.na(date)) #these are due to missing sentence_dates for cases in vibes series\n",
    "\n",
    "vibes.time <- vibes.time %>% left_join(vibes.merge, by = \"Incident_ID\")  \n",
    "\n",
    "#merging monsanc to mncis and vibes series (have to do merges separately before appending due to different id's)\n",
    "mncis.person <- mncis.time %>% \n",
    "  left_join(monsanc, by = c(\"Case_Mkey\"=\"case_mkey\")) %>% \n",
    "  rename(ordered = mncis_ordered, collected = mncis_collected, county = filed_county) \n",
    "\n",
    "vibes.person <- vibes.time %>% \n",
    "  left_join(monsanc, by = c(\"county\"=\"filed_county\", \"Case_Mkey\"=\"case_mkey\")) %>%\n",
    "  rename(ordered = vibes_ordered, collected = vibes_collected) %>% ungroup() %>% select(-Incident_ID) \n",
    "\n",
    "#combining - case-level financial series\n",
    "fin.series <- mncis.person %>% bind_rows(vibes.person) %>% arrange(person_id, date)\n",
    "\n",
    "#create case count (data already arranged by date)\n",
    "count <- fin.series %>% select(person_id, Case_Mkey) %>% distinct(person_id,Case_Mkey) %>%\n",
    "  group_by(person_id) %>% mutate(count = row_number()) \n",
    "\n",
    "fin.series <- fin.series %>% left_join(count, by = c(\"person_id\", \"Case_Mkey\"))\n",
    "\n",
    "rm(list = ls()[!ls() %in% c(\"fin.series\", \"monsanc\")])\n",
    "\n",
    "#adjusting amounts to January 2018, other recodes\n",
    "fin.series <- fin.series %>%\n",
    "  mutate(ordered = ordered*adj, \n",
    "         collected = collected*adj, \n",
    "         prob_days=ifelse(is.na(prob_days), 0, prob_days),\n",
    "         sentence_year = as.Date(sentence_date, format = \"%Y\")) %>%\n",
    "  ungroup()"
   ]
  },
  {
   "cell_type": "code",
   "execution_count": null,
   "metadata": {},
   "outputs": [],
   "source": [
    "############################################\n",
    "# Fixed Effects Framework\n",
    "##########################################\n",
    "\n",
    "#pulling in case level data\n",
    "monsanc <- read_csv(\"monsanc.csv\") %>%\n",
    "  select(person_id,case_mkey, case_filed_date, sentence_date, filed_county, adj) %>%\n",
    "  mutate(sentence_date = as.character(format(sentence_date, \"%Y-%m\" )))"
   ]
  },
  {
   "cell_type": "code",
   "execution_count": null,
   "metadata": {},
   "outputs": [],
   "source": [
    "#list of cases\n",
    "### changed 'case_filed_date)%>%s' to 'case_filed_date)%>%'\n",
    "### in third line because of error in above cell -RS\n",
    "cases <- monsanc %>%\n",
    "  select(person_id, case_filed_date, case_mkey) %>%\n",
    "  rename(event_mkey = case_mkey, event_filed_date = case_filed_date)%>%\n",
    "  mutate(event_filed_date = substr(event_filed_date, 0, 7))"
   ]
  },
  {
   "cell_type": "code",
   "execution_count": null,
   "metadata": {},
   "outputs": [],
   "source": [
    "#Received and error that 'adj' was not a column name, so I first\n",
    "#  added 'adj' to select(), but received the same error, so\n",
    "#  I just removed 'adj' from the entire call - RS\n",
    "panel <- fin.series %>% \n",
    "  filter(case_filed_date >= \"2010-01-01\") %>%\n",
    "  select(person_id, date, ordered, collected) %>%\n",
    "  group_by(person_id, date) %>%\n",
    "  summarize(ordered = sum(ordered, na.rm = T), \n",
    "            collected = sum(collected, na.rm = T)) %>%\n",
    "  mutate(year = substr(date, 0, 4)) %>%\n",
    "  left_join(cases, by = c(\"person_id\", \"date\" = \"event_filed_date\")) %>%\n",
    "  mutate(date = as.Date(paste(date, 01, sep=\"-\"), format = \"%Y-%m-%d\")) %>%\n",
    "  group_by(person_id) %>%\n",
    "  complete(date = seq.Date(min(date), as.Date(\"2018-12-01\"), by = \"month\")) %>%\n",
    "  ungroup() %>%\n",
    "  fill(person_id, year) %>%\n",
    "  mutate(ordered = replace_na(ordered, 0), collected = replace_na(collected, 0)) %>% \n",
    "  group_by(person_id) %>%\n",
    "  mutate(cum_order = cumsum(ordered),\n",
    "         cum_coll  = cumsum(collected)) %>%\n",
    "  mutate(lfo_debt = cum_order-cum_coll,\n",
    "         event = if_else(is.na(event_mkey), 0, 1))"
   ]
  },
  {
   "cell_type": "code",
   "execution_count": 8,
   "metadata": {},
   "outputs": [
    {
     "name": "stderr",
     "output_type": "stream",
     "text": [
      "Warning message:\n",
      "“Missing column names filled in: 'X1' [1]”Parsed with column specification:\n",
      "cols(\n",
      "  X1 = col_double(),\n",
      "  event = col_double(),\n",
      "  lfo_debt = col_double(),\n",
      "  person_id = col_double()\n",
      ")\n"
     ]
    }
   ],
   "source": [
    "# To save time from having to continually execute the\n",
    "#   above code while troubleshooting, I saved it as \n",
    "#   a csv and just reloaded the csv - RS\n",
    "panel2 <- read_csv(\"panel2_df.csv\")"
   ]
  },
  {
   "cell_type": "code",
   "execution_count": 9,
   "metadata": {},
   "outputs": [],
   "source": [
    "# Limit to only these three colums for now - RS\n",
    "panel2 <- panel2[,c(\"event\", \"lfo_debt\", \"person_id\")]"
   ]
  },
  {
   "cell_type": "code",
   "execution_count": 11,
   "metadata": {},
   "outputs": [],
   "source": [
    "# Delete problematic person_id - RS\n",
    "panel2 <- filter(panel2, person_id != 3396157)"
   ]
  },
  {
   "cell_type": "code",
   "execution_count": 13,
   "metadata": {},
   "outputs": [],
   "source": [
    "fe <- clogit(event~lfo_debt+strata(person_id), \n",
    "             method = \"efron\",\n",
    "             data = panel2)"
   ]
  },
  {
   "cell_type": "code",
   "execution_count": 14,
   "metadata": {},
   "outputs": [
    {
     "data": {
      "text/plain": [
       "Call:\n",
       "coxph(formula = Surv(rep(1, 163658970L), event) ~ lfo_debt + \n",
       "    strata(person_id), data = panel2, method = \"efron\")\n",
       "\n",
       "  n= 163658970, number of events= 2882167 \n",
       "\n",
       "               coef  exp(coef)   se(coef)      z Pr(>|z|)    \n",
       "lfo_debt -8.102e-05  9.999e-01  8.902e-07 -91.02   <2e-16 ***\n",
       "---\n",
       "Signif. codes:  0 ‘***’ 0.001 ‘**’ 0.01 ‘*’ 0.05 ‘.’ 0.1 ‘ ’ 1\n",
       "\n",
       "         exp(coef) exp(-coef) lower .95 upper .95\n",
       "lfo_debt    0.9999          1    0.9999    0.9999\n",
       "\n",
       "Concordance= 0.419  (se = 0 )\n",
       "Likelihood ratio test= 11635  on 1 df,   p=<2e-16\n",
       "Wald test            = 8285  on 1 df,   p=<2e-16\n",
       "Score (logrank) test = 3161  on 1 df,   p=<2e-16\n"
      ]
     },
     "metadata": {},
     "output_type": "display_data"
    }
   ],
   "source": [
    "summary(fe)"
   ]
  },
  {
   "cell_type": "code",
   "execution_count": null,
   "metadata": {},
   "outputs": [],
   "source": []
  }
 ],
 "metadata": {
  "kernelspec": {
   "display_name": "R",
   "language": "R",
   "name": "ir"
  },
  "language_info": {
   "codemirror_mode": "r",
   "file_extension": ".r",
   "mimetype": "text/x-r-source",
   "name": "R",
   "pygments_lexer": "r",
   "version": "3.6.1"
  }
 },
 "nbformat": 4,
 "nbformat_minor": 4
}
